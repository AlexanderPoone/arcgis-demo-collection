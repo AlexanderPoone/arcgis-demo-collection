{
 "cells": [
  {
   "cell_type": "markdown",
   "id": "c28a0772",
   "metadata": {},
   "source": [
    "# SiamMask Example\n",
    "## Under construction"
   ]
  },
  {
   "cell_type": "code",
   "execution_count": 1,
   "id": "7364282b",
   "metadata": {},
   "outputs": [],
   "source": [
    "from torch_geometric.nn import fps, knn\n",
    "from arcgis.learn import SiamMask, YOLOv3, ObjectTracker\n",
    "\n",
    "#ot = SiamMask()"
   ]
  },
  {
   "cell_type": "code",
   "execution_count": null,
   "id": "df24b7f5",
   "metadata": {},
   "outputs": [],
   "source": [
    "from arcgis.learn import prepare_data\n",
    "data = prepare_data(r\"_internal/CUH-Dataset\", dataset_type=\"ObjectTracking\", batch_size=64)"
   ]
  },
  {
   "cell_type": "code",
   "execution_count": null,
   "id": "5b9cfa49",
   "metadata": {},
   "outputs": [],
   "source": [
    "data"
   ]
  },
  {
   "cell_type": "code",
   "execution_count": null,
   "id": "682113fa",
   "metadata": {},
   "outputs": [],
   "source": [
    "ot = SiamMask(data)"
   ]
  },
  {
   "cell_type": "code",
   "execution_count": null,
   "id": "5c6df155",
   "metadata": {},
   "outputs": [],
   "source": [
    "data.train_dl()"
   ]
  },
  {
   "cell_type": "code",
   "execution_count": null,
   "id": "89c76f40",
   "metadata": {},
   "outputs": [],
   "source": []
  }
 ],
 "metadata": {
  "kernelspec": {
   "display_name": "Python 3",
   "language": "python",
   "name": "python3"
  },
  "language_info": {
   "codemirror_mode": {
    "name": "ipython",
    "version": 3
   },
   "file_extension": ".py",
   "mimetype": "text/x-python",
   "name": "python",
   "nbconvert_exporter": "python",
   "pygments_lexer": "ipython3",
   "version": "3.7.11"
  }
 },
 "nbformat": 4,
 "nbformat_minor": 5
}
