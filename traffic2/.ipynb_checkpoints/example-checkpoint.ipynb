{
 "cells": [
  {
   "cell_type": "markdown",
   "id": "7734829f",
   "metadata": {},
   "source": [
    "# SiamMask Example\n",
    "## Under construction"
   ]
  },
  {
   "cell_type": "code",
   "execution_count": 1,
   "id": "4a79dfcb",
   "metadata": {},
   "outputs": [],
   "source": [
    "from torch_geometric.nn import fps, knn\n",
    "from arcgis.learn import SiamMask, YOLOv3, ObjectTracker\n",
    "\n",
    "#ot = SiamMask()"
   ]
  },
  {
   "cell_type": "code",
   "execution_count": 4,
   "id": "7c75f258",
   "metadata": {},
   "outputs": [],
   "source": [
    "from arcgis.learn import prepare_data\n",
    "data = prepare_data(r\"_internal/CUH-Dataset\", dataset_type=\"ObjectTracking\", batch_size=64)"
   ]
  },
  {
   "cell_type": "code",
   "execution_count": null,
   "id": "d6a86994",
   "metadata": {},
   "outputs": [],
   "source": [
    "data"
   ]
  },
  {
   "cell_type": "code",
   "execution_count": null,
   "id": "0a673564",
   "metadata": {},
   "outputs": [],
   "source": [
    "ot = SiamMask(data)"
   ]
  },
  {
   "cell_type": "code",
   "execution_count": null,
   "id": "5a0cf249",
   "metadata": {},
   "outputs": [],
   "source": [
    "data.train_dl()"
   ]
  },
  {
   "cell_type": "code",
   "execution_count": null,
   "id": "25175af6",
   "metadata": {},
   "outputs": [],
   "source": []
  }
 ],
 "metadata": {
  "kernelspec": {
   "display_name": "Python 3",
   "language": "python",
   "name": "python3"
  },
  "language_info": {
   "codemirror_mode": {
    "name": "ipython",
    "version": 3
   },
   "file_extension": ".py",
   "mimetype": "text/x-python",
   "name": "python",
   "nbconvert_exporter": "python",
   "pygments_lexer": "ipython3",
   "version": "3.7.10"
  }
 },
 "nbformat": 4,
 "nbformat_minor": 5
}
